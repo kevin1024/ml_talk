{
 "metadata": {
  "name": "Housing Prices"
 }, 
 "nbformat": 2, 
 "worksheets": [
  {
   "cells": [
    {
     "cell_type": "markdown", 
     "source": [
      "#Housing Data Demo", 
      "", 
      "This data came from a huge dataset from work.  I loaded it in from Mongo.  show code?  Not that I'm loading 3 data sets here: `TEST_SET`, `TRAINING_SET`, and `VALIDATION_SET`.  More about this later", 
      "", 
      "", 
      "#How to improve our model", 
      "1. Add more data", 
      "2. Change polynomial degree", 
      "3. Add more features", 
      "", 
      "##Picking the degree of the best-fit polynomial", 
      "", 
      "* _Underfitting (High Bias)_", 
      "This is nice and simple but doesn't do a good job predicting values since our model isn't complex enough", 
      "", 
      "* _Overfitting (High Variance)_", 
      "This does a great job of fitting our available data but fits it so closely it doesn't do a good job predicting new values", 
      "", 
      "_Bias_ vs _Variance_"
     ]
    }, 
    {
     "cell_type": "code", 
     "collapsed": true, 
     "input": [
      "import pylab as pl", 
      "import housing_data", 
      "", 
      "TRAINING_SET,VALIDATION_SET,TEST_SET = housing_data.get(100)"
     ], 
     "language": "python", 
     "outputs": [], 
     "prompt_number": 1
    }, 
    {
     "cell_type": "code", 
     "collapsed": false, 
     "input": [
      "training_x,training_y = TRAINING_SET", 
      "pl.xlabel('sqft')", 
      "pl.ylabel('price')", 
      "", 
      "#find best-fit polynomial", 
      "p = np.polyfit(training_x,training_y,2)", 
      "print p", 
      "", 
      "#Plot", 
      "xfit = range(max(training_x))", 
      "yfit = np.polyval(p,xfit)", 
      "pl.scatter(training_x,training_y, c='k')", 
      "pl.plot(xfit,yfit)", 
      "", 
      "np.polyval(p,500)"
     ], 
     "language": "python", 
     "outputs": [
      {
       "output_type": "stream", 
       "stream": "stdout", 
       "text": [
        "[ -5.87535297e-03   4.31871900e+02   5.64224146e+04]"
       ]
      }, 
      {
       "output_type": "pyout", 
       "prompt_number": 8, 
       "text": [
        "270889.5261834237"
       ]
      }, 
      {
       "output_type": "display_data", 
       "png": "[encoded data removed]"
      }
     ], 
     "prompt_number": 8
    }, 
    {
     "cell_type": "code", 
     "collapsed": false, 
     "input": [
      "#Calculate cost", 
      "", 
      "def cost(poly,x,y):", 
      "    \"\"\"", 
      "    Returns the average squared error given a polynomial", 
      "    and test/cross-validation set x,y", 
      "    \"\"\"", 
      "    return np.mean(abs(numpy.square(y - np.polyval(poly,x))))", 
      "", 
      "test_x, test_y = TEST_SET", 
      "", 
      "print \"Average cost is %s\" % cost(p,test_x,test_y)"
     ], 
     "language": "python", 
     "outputs": [
      {
       "output_type": "stream", 
       "stream": "stdout", 
       "text": [
        "Average cost is 337461043451.0"
       ]
      }
     ], 
     "prompt_number": 11
    }, 
    {
     "cell_type": "markdown", 
     "source": [
      "* Training Set", 
      "* Cross-Validation Set", 
      "* Test Set"
     ]
    }, 
    {
     "cell_type": "code", 
     "collapsed": false, 
     "input": [
      "validation_x, validation_y = VALIDATION_SET", 
      "", 
      "print \"Average cost is %s\" % cost(p,validation_x,validation_y)"
     ], 
     "language": "python", 
     "outputs": [
      {
       "output_type": "stream", 
       "stream": "stdout", 
       "text": [
        "Average cost is 205817653060.0"
       ]
      }
     ], 
     "prompt_number": 12
    }, 
    {
     "cell_type": "code", 
     "collapsed": false, 
     "input": [
      "DEGREES_TO_TRY = 6", 
      "", 
      "polys = [np.polyfit(training_x,training_y,d) for d in range(DEGREES_TO_TRY)]", 
      "", 
      "xcurve = range(DEGREES_TO_TRY)", 
      "ycurve = [cost(p,validation_x,validation_y) for p in polys]", 
      "", 
      "pl.plot(xcurve,ycurve)"
     ], 
     "language": "python", 
     "outputs": [
      {
       "output_type": "pyout", 
       "prompt_number": 14, 
       "text": [
        "[<matplotlib.lines.Line2D at 0x1066f5910>]"
       ]
      }, 
      {
       "output_type": "display_data", 
       "png": "[encoded data removed]"
      }
     ], 
     "prompt_number": 14
    }
   ]
  }
 ]
}